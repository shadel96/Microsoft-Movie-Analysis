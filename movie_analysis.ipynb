{
 "cells": [
  {
   "cell_type": "markdown",
   "metadata": {},
   "source": [
    "![example](images/director_shot.jpeg)"
   ]
  },
  {
   "cell_type": "markdown",
   "metadata": {},
   "source": [
    "# Recent Movie Profitability Analysis\n",
    "\n",
    "**Author:** Spencer Hadel\n",
    "***"
   ]
  },
  {
   "cell_type": "markdown",
   "metadata": {},
   "source": [
    "## Overview\n",
    "\n",
    "This project will give Microsoft the data it needs to break into the movie industry, and maintain profitability when creating new content. "
   ]
  },
  {
   "cell_type": "markdown",
   "metadata": {},
   "source": [
    "## Business Problem\n",
    "\n",
    "Microsoft will need to make sure that any content it creates yields a profit. This will come from properly allocating budgets to the correct types of films, set to release at the appropriate time of year for maximum domestic gross income. The following data will indicate which Genres, Budgets, and Release Dates to prioritize in order to maximize profits."
   ]
  },
  {
   "cell_type": "markdown",
   "metadata": {},
   "source": [
    "## Data Understanding\n",
    "Using IMDB and The Numbers datasets, this analysis will show strong correlations between movie budgets and success, as well as the overall profitability of each movie genre. The data contains info on all recent movies released, their budgets, their gross income, and their genres."
   ]
  },
  {
   "cell_type": "code",
   "execution_count": 1,
   "metadata": {},
   "outputs": [],
   "source": [
    "import pandas as pd\n",
    "import numpy as np\n",
    "import matplotlib.pyplot as plt\n",
    "import seaborn as sns\n",
    "\n",
    "%matplotlib inline"
   ]
  },
  {
   "cell_type": "markdown",
   "metadata": {},
   "source": [
    "### Budget Data\n",
    "This dataset includes movie names, as well as their production budget, demostic gross income, and worldwide gross income. For the purposes of this analysis, only the domestic gross will be taken into account, and profitability will be calculated using these values."
   ]
  },
  {
   "cell_type": "code",
   "execution_count": 2,
   "metadata": {
    "scrolled": false
   },
   "outputs": [
    {
     "data": {
      "text/html": [
       "<div>\n",
       "<style scoped>\n",
       "    .dataframe tbody tr th:only-of-type {\n",
       "        vertical-align: middle;\n",
       "    }\n",
       "\n",
       "    .dataframe tbody tr th {\n",
       "        vertical-align: top;\n",
       "    }\n",
       "\n",
       "    .dataframe thead th {\n",
       "        text-align: right;\n",
       "    }\n",
       "</style>\n",
       "<table border=\"1\" class=\"dataframe\">\n",
       "  <thead>\n",
       "    <tr style=\"text-align: right;\">\n",
       "      <th></th>\n",
       "      <th>id</th>\n",
       "      <th>release_date</th>\n",
       "      <th>movie</th>\n",
       "      <th>production_budget</th>\n",
       "      <th>domestic_gross</th>\n",
       "      <th>worldwide_gross</th>\n",
       "    </tr>\n",
       "  </thead>\n",
       "  <tbody>\n",
       "    <tr>\n",
       "      <th>0</th>\n",
       "      <td>1</td>\n",
       "      <td>Dec 18, 2009</td>\n",
       "      <td>Avatar</td>\n",
       "      <td>$425,000,000</td>\n",
       "      <td>$760,507,625</td>\n",
       "      <td>$2,776,345,279</td>\n",
       "    </tr>\n",
       "    <tr>\n",
       "      <th>1</th>\n",
       "      <td>2</td>\n",
       "      <td>May 20, 2011</td>\n",
       "      <td>Pirates of the Caribbean: On Stranger Tides</td>\n",
       "      <td>$410,600,000</td>\n",
       "      <td>$241,063,875</td>\n",
       "      <td>$1,045,663,875</td>\n",
       "    </tr>\n",
       "    <tr>\n",
       "      <th>2</th>\n",
       "      <td>3</td>\n",
       "      <td>Jun 7, 2019</td>\n",
       "      <td>Dark Phoenix</td>\n",
       "      <td>$350,000,000</td>\n",
       "      <td>$42,762,350</td>\n",
       "      <td>$149,762,350</td>\n",
       "    </tr>\n",
       "    <tr>\n",
       "      <th>3</th>\n",
       "      <td>4</td>\n",
       "      <td>May 1, 2015</td>\n",
       "      <td>Avengers: Age of Ultron</td>\n",
       "      <td>$330,600,000</td>\n",
       "      <td>$459,005,868</td>\n",
       "      <td>$1,403,013,963</td>\n",
       "    </tr>\n",
       "    <tr>\n",
       "      <th>4</th>\n",
       "      <td>5</td>\n",
       "      <td>Dec 15, 2017</td>\n",
       "      <td>Star Wars Ep. VIII: The Last Jedi</td>\n",
       "      <td>$317,000,000</td>\n",
       "      <td>$620,181,382</td>\n",
       "      <td>$1,316,721,747</td>\n",
       "    </tr>\n",
       "  </tbody>\n",
       "</table>\n",
       "</div>"
      ],
      "text/plain": [
       "   id  release_date                                        movie  \\\n",
       "0   1  Dec 18, 2009                                       Avatar   \n",
       "1   2  May 20, 2011  Pirates of the Caribbean: On Stranger Tides   \n",
       "2   3   Jun 7, 2019                                 Dark Phoenix   \n",
       "3   4   May 1, 2015                      Avengers: Age of Ultron   \n",
       "4   5  Dec 15, 2017            Star Wars Ep. VIII: The Last Jedi   \n",
       "\n",
       "  production_budget domestic_gross worldwide_gross  \n",
       "0      $425,000,000   $760,507,625  $2,776,345,279  \n",
       "1      $410,600,000   $241,063,875  $1,045,663,875  \n",
       "2      $350,000,000    $42,762,350    $149,762,350  \n",
       "3      $330,600,000   $459,005,868  $1,403,013,963  \n",
       "4      $317,000,000   $620,181,382  $1,316,721,747  "
      ]
     },
     "execution_count": 2,
     "metadata": {},
     "output_type": "execute_result"
    }
   ],
   "source": [
    "budgets_df = pd.read_csv('data/zippedData/tn.movie_budgets.csv.gz')\n",
    "budgets_df.head()"
   ]
  },
  {
   "cell_type": "markdown",
   "metadata": {},
   "source": [
    "The \"release_date\" column will be separated into \"month\" and \"year\" columns in order analyze profitability by time of year. Additionally, a \"monthNum\" column will be used to simplify the ordering of data in this project."
   ]
  },
  {
   "cell_type": "code",
   "execution_count": 3,
   "metadata": {
    "scrolled": true
   },
   "outputs": [],
   "source": [
    "#new month and year columns will be used by taking \n",
    "#the beginning and end of the release date info, respectively\n",
    "\n",
    "budgets_df['year'] = budgets_df.release_date.str[-4:]\n",
    "budgets_df['month'] = budgets_df.release_date.str[:3]\n",
    "\n",
    "#create array assigning months to numbers, then add a new column using this array.\n",
    "months_to_nums = {'Jan': 1, 'Feb': 2, 'Mar': 3, 'Apr': 4, 'May': 5, 'Jun': 6, \n",
    "                  'Jul': 7, 'Aug': 8, 'Sep': 9, 'Oct': 10, 'Nov': 11, 'Dec': 12}\n",
    "budgets_df['monthNum'] = budgets_df['month'].apply(lambda x: months_to_nums.get(x))"
   ]
  },
  {
   "cell_type": "code",
   "execution_count": 4,
   "metadata": {},
   "outputs": [
    {
     "data": {
      "text/html": [
       "<div>\n",
       "<style scoped>\n",
       "    .dataframe tbody tr th:only-of-type {\n",
       "        vertical-align: middle;\n",
       "    }\n",
       "\n",
       "    .dataframe tbody tr th {\n",
       "        vertical-align: top;\n",
       "    }\n",
       "\n",
       "    .dataframe thead th {\n",
       "        text-align: right;\n",
       "    }\n",
       "</style>\n",
       "<table border=\"1\" class=\"dataframe\">\n",
       "  <thead>\n",
       "    <tr style=\"text-align: right;\">\n",
       "      <th></th>\n",
       "      <th>id</th>\n",
       "      <th>release_date</th>\n",
       "      <th>movie</th>\n",
       "      <th>production_budget</th>\n",
       "      <th>domestic_gross</th>\n",
       "      <th>worldwide_gross</th>\n",
       "      <th>year</th>\n",
       "      <th>month</th>\n",
       "      <th>monthNum</th>\n",
       "    </tr>\n",
       "  </thead>\n",
       "  <tbody>\n",
       "    <tr>\n",
       "      <th>0</th>\n",
       "      <td>1</td>\n",
       "      <td>Dec 18, 2009</td>\n",
       "      <td>Avatar</td>\n",
       "      <td>$425,000,000</td>\n",
       "      <td>$760,507,625</td>\n",
       "      <td>$2,776,345,279</td>\n",
       "      <td>2009</td>\n",
       "      <td>Dec</td>\n",
       "      <td>12</td>\n",
       "    </tr>\n",
       "    <tr>\n",
       "      <th>1</th>\n",
       "      <td>2</td>\n",
       "      <td>May 20, 2011</td>\n",
       "      <td>Pirates of the Caribbean: On Stranger Tides</td>\n",
       "      <td>$410,600,000</td>\n",
       "      <td>$241,063,875</td>\n",
       "      <td>$1,045,663,875</td>\n",
       "      <td>2011</td>\n",
       "      <td>May</td>\n",
       "      <td>5</td>\n",
       "    </tr>\n",
       "    <tr>\n",
       "      <th>2</th>\n",
       "      <td>3</td>\n",
       "      <td>Jun 7, 2019</td>\n",
       "      <td>Dark Phoenix</td>\n",
       "      <td>$350,000,000</td>\n",
       "      <td>$42,762,350</td>\n",
       "      <td>$149,762,350</td>\n",
       "      <td>2019</td>\n",
       "      <td>Jun</td>\n",
       "      <td>6</td>\n",
       "    </tr>\n",
       "    <tr>\n",
       "      <th>3</th>\n",
       "      <td>4</td>\n",
       "      <td>May 1, 2015</td>\n",
       "      <td>Avengers: Age of Ultron</td>\n",
       "      <td>$330,600,000</td>\n",
       "      <td>$459,005,868</td>\n",
       "      <td>$1,403,013,963</td>\n",
       "      <td>2015</td>\n",
       "      <td>May</td>\n",
       "      <td>5</td>\n",
       "    </tr>\n",
       "    <tr>\n",
       "      <th>4</th>\n",
       "      <td>5</td>\n",
       "      <td>Dec 15, 2017</td>\n",
       "      <td>Star Wars Ep. VIII: The Last Jedi</td>\n",
       "      <td>$317,000,000</td>\n",
       "      <td>$620,181,382</td>\n",
       "      <td>$1,316,721,747</td>\n",
       "      <td>2017</td>\n",
       "      <td>Dec</td>\n",
       "      <td>12</td>\n",
       "    </tr>\n",
       "  </tbody>\n",
       "</table>\n",
       "</div>"
      ],
      "text/plain": [
       "   id  release_date                                        movie  \\\n",
       "0   1  Dec 18, 2009                                       Avatar   \n",
       "1   2  May 20, 2011  Pirates of the Caribbean: On Stranger Tides   \n",
       "2   3   Jun 7, 2019                                 Dark Phoenix   \n",
       "3   4   May 1, 2015                      Avengers: Age of Ultron   \n",
       "4   5  Dec 15, 2017            Star Wars Ep. VIII: The Last Jedi   \n",
       "\n",
       "  production_budget domestic_gross worldwide_gross  year month  monthNum  \n",
       "0      $425,000,000   $760,507,625  $2,776,345,279  2009   Dec        12  \n",
       "1      $410,600,000   $241,063,875  $1,045,663,875  2011   May         5  \n",
       "2      $350,000,000    $42,762,350    $149,762,350  2019   Jun         6  \n",
       "3      $330,600,000   $459,005,868  $1,403,013,963  2015   May         5  \n",
       "4      $317,000,000   $620,181,382  $1,316,721,747  2017   Dec        12  "
      ]
     },
     "execution_count": 4,
     "metadata": {},
     "output_type": "execute_result"
    }
   ],
   "source": [
    "budgets_df.head()"
   ]
  },
  {
   "cell_type": "code",
   "execution_count": 5,
   "metadata": {},
   "outputs": [],
   "source": [
    "#rename columns for readability\n",
    "\n",
    "budgets_df.rename(columns={'production_budget': 'budget', 'domestic_gross': 'gross'}, inplace=True)"
   ]
  },
  {
   "cell_type": "markdown",
   "metadata": {},
   "source": [
    "Next, the columns with budget or year information will be changed to integers, in order to properly graph their values in our results."
   ]
  },
  {
   "cell_type": "code",
   "execution_count": 6,
   "metadata": {},
   "outputs": [],
   "source": [
    "#replace commas and $ in monetary values, to prevent errors when converting to int\n",
    "budgets_df['budget'].replace('[\\$,]', '', regex=True, inplace=True)\n",
    "budgets_df['gross'].replace('[\\$,]', '', regex=True, inplace=True)\n",
    "\n",
    "budgets_df['year'] = budgets_df['year'].astype(int)\n",
    "budgets_df['budget'] = budgets_df['budget'].astype(int)\n",
    "budgets_df['gross'] = budgets_df['gross'].astype(int)"
   ]
  },
  {
   "cell_type": "code",
   "execution_count": 7,
   "metadata": {
    "scrolled": false
   },
   "outputs": [
    {
     "data": {
      "text/plain": [
       "id                  int64\n",
       "release_date       object\n",
       "movie              object\n",
       "budget              int32\n",
       "gross               int32\n",
       "worldwide_gross    object\n",
       "year                int32\n",
       "month              object\n",
       "monthNum            int64\n",
       "dtype: object"
      ]
     },
     "execution_count": 7,
     "metadata": {},
     "output_type": "execute_result"
    }
   ],
   "source": [
    "#condirm successful change in type\n",
    "budgets_df.dtypes"
   ]
  },
  {
   "cell_type": "markdown",
   "metadata": {},
   "source": [
    "Next add a profit column, using the budget and gross income."
   ]
  },
  {
   "cell_type": "code",
   "execution_count": 8,
   "metadata": {},
   "outputs": [],
   "source": [
    "budgets_df['profit'] = budgets_df[\"gross\"] - budgets_df[\"budget\"]"
   ]
  },
  {
   "cell_type": "markdown",
   "metadata": {},
   "source": [
    "### Titles Data\n",
    "The next dataframe contains another piece of important data: each movies genre(s)."
   ]
  },
  {
   "cell_type": "code",
   "execution_count": 9,
   "metadata": {
    "scrolled": false
   },
   "outputs": [
    {
     "data": {
      "text/html": [
       "<div>\n",
       "<style scoped>\n",
       "    .dataframe tbody tr th:only-of-type {\n",
       "        vertical-align: middle;\n",
       "    }\n",
       "\n",
       "    .dataframe tbody tr th {\n",
       "        vertical-align: top;\n",
       "    }\n",
       "\n",
       "    .dataframe thead th {\n",
       "        text-align: right;\n",
       "    }\n",
       "</style>\n",
       "<table border=\"1\" class=\"dataframe\">\n",
       "  <thead>\n",
       "    <tr style=\"text-align: right;\">\n",
       "      <th></th>\n",
       "      <th>tconst</th>\n",
       "      <th>primary_title</th>\n",
       "      <th>original_title</th>\n",
       "      <th>start_year</th>\n",
       "      <th>runtime_minutes</th>\n",
       "      <th>genres</th>\n",
       "    </tr>\n",
       "  </thead>\n",
       "  <tbody>\n",
       "    <tr>\n",
       "      <th>0</th>\n",
       "      <td>tt0063540</td>\n",
       "      <td>Sunghursh</td>\n",
       "      <td>Sunghursh</td>\n",
       "      <td>2013</td>\n",
       "      <td>175.0</td>\n",
       "      <td>Action,Crime,Drama</td>\n",
       "    </tr>\n",
       "    <tr>\n",
       "      <th>1</th>\n",
       "      <td>tt0066787</td>\n",
       "      <td>One Day Before the Rainy Season</td>\n",
       "      <td>Ashad Ka Ek Din</td>\n",
       "      <td>2019</td>\n",
       "      <td>114.0</td>\n",
       "      <td>Biography,Drama</td>\n",
       "    </tr>\n",
       "    <tr>\n",
       "      <th>2</th>\n",
       "      <td>tt0069049</td>\n",
       "      <td>The Other Side of the Wind</td>\n",
       "      <td>The Other Side of the Wind</td>\n",
       "      <td>2018</td>\n",
       "      <td>122.0</td>\n",
       "      <td>Drama</td>\n",
       "    </tr>\n",
       "    <tr>\n",
       "      <th>3</th>\n",
       "      <td>tt0069204</td>\n",
       "      <td>Sabse Bada Sukh</td>\n",
       "      <td>Sabse Bada Sukh</td>\n",
       "      <td>2018</td>\n",
       "      <td>NaN</td>\n",
       "      <td>Comedy,Drama</td>\n",
       "    </tr>\n",
       "    <tr>\n",
       "      <th>4</th>\n",
       "      <td>tt0100275</td>\n",
       "      <td>The Wandering Soap Opera</td>\n",
       "      <td>La Telenovela Errante</td>\n",
       "      <td>2017</td>\n",
       "      <td>80.0</td>\n",
       "      <td>Comedy,Drama,Fantasy</td>\n",
       "    </tr>\n",
       "  </tbody>\n",
       "</table>\n",
       "</div>"
      ],
      "text/plain": [
       "      tconst                    primary_title              original_title  \\\n",
       "0  tt0063540                        Sunghursh                   Sunghursh   \n",
       "1  tt0066787  One Day Before the Rainy Season             Ashad Ka Ek Din   \n",
       "2  tt0069049       The Other Side of the Wind  The Other Side of the Wind   \n",
       "3  tt0069204                  Sabse Bada Sukh             Sabse Bada Sukh   \n",
       "4  tt0100275         The Wandering Soap Opera       La Telenovela Errante   \n",
       "\n",
       "   start_year  runtime_minutes                genres  \n",
       "0        2013            175.0    Action,Crime,Drama  \n",
       "1        2019            114.0       Biography,Drama  \n",
       "2        2018            122.0                 Drama  \n",
       "3        2018              NaN          Comedy,Drama  \n",
       "4        2017             80.0  Comedy,Drama,Fantasy  "
      ]
     },
     "execution_count": 9,
     "metadata": {},
     "output_type": "execute_result"
    }
   ],
   "source": [
    "titles_df = pd.read_csv('data/zippedData/imdb.title.basics.csv.gz')\n",
    "titles_df.head()"
   ]
  },
  {
   "cell_type": "markdown",
   "metadata": {},
   "source": [
    "The only data we need from this table is the primary title of the movie, and its genre data."
   ]
  },
  {
   "cell_type": "code",
   "execution_count": 10,
   "metadata": {},
   "outputs": [
    {
     "name": "stdout",
     "output_type": "stream",
     "text": [
      "<class 'pandas.core.frame.DataFrame'>\n",
      "RangeIndex: 146144 entries, 0 to 146143\n",
      "Data columns (total 3 columns):\n",
      " #   Column         Non-Null Count   Dtype \n",
      "---  ------         --------------   ----- \n",
      " 0   tconst         146144 non-null  object\n",
      " 1   primary_title  146144 non-null  object\n",
      " 2   genres         140736 non-null  object\n",
      "dtypes: object(3)\n",
      "memory usage: 3.3+ MB\n"
     ]
    }
   ],
   "source": [
    "#drop unnecessary data\n",
    "titles_df.drop(['start_year', 'runtime_minutes', 'original_title'], axis=1, inplace=True)\n",
    "\n",
    "#confirm data dropped\n",
    "titles_df.info()"
   ]
  },
  {
   "cell_type": "markdown",
   "metadata": {},
   "source": [
    "### Creating Combined Dataset\n",
    "Now all the data can be merged together to contain all the necessary information to draw our conclusions."
   ]
  },
  {
   "cell_type": "code",
   "execution_count": 11,
   "metadata": {
    "scrolled": true
   },
   "outputs": [
    {
     "name": "stdout",
     "output_type": "stream",
     "text": [
      "<class 'pandas.core.frame.DataFrame'>\n",
      "Int64Index: 3815 entries, 0 to 3814\n",
      "Data columns (total 13 columns):\n",
      " #   Column           Non-Null Count  Dtype \n",
      "---  ------           --------------  ----- \n",
      " 0   tconst           3815 non-null   object\n",
      " 1   primary_title    3815 non-null   object\n",
      " 2   genres           3743 non-null   object\n",
      " 3   id               3815 non-null   int64 \n",
      " 4   release_date     3815 non-null   object\n",
      " 5   movie            3815 non-null   object\n",
      " 6   budget           3815 non-null   int32 \n",
      " 7   gross            3815 non-null   int32 \n",
      " 8   worldwide_gross  3815 non-null   object\n",
      " 9   year             3815 non-null   int32 \n",
      " 10  month            3815 non-null   object\n",
      " 11  monthNum         3815 non-null   int64 \n",
      " 12  profit           3815 non-null   int32 \n",
      "dtypes: int32(4), int64(2), object(7)\n",
      "memory usage: 357.7+ KB\n"
     ]
    }
   ],
   "source": [
    "combined_df = pd.merge(titles_df, budgets_df, left_on='primary_title', right_on='movie', how = 'inner')\n",
    "combined_df.info()"
   ]
  },
  {
   "cell_type": "markdown",
   "metadata": {},
   "source": [
    "Drop rows with incomplete info, or where movie is a duplicate."
   ]
  },
  {
   "cell_type": "markdown",
   "metadata": {},
   "source": [
    "Also dropping rows with $0 listed as domestic gross income, because this is clearly incomplete data that could drastically skew results."
   ]
  },
  {
   "cell_type": "code",
   "execution_count": 12,
   "metadata": {
    "scrolled": true
   },
   "outputs": [
    {
     "name": "stdout",
     "output_type": "stream",
     "text": [
      "<class 'pandas.core.frame.DataFrame'>\n",
      "Int64Index: 3214 entries, 1 to 3813\n",
      "Data columns (total 13 columns):\n",
      " #   Column           Non-Null Count  Dtype \n",
      "---  ------           --------------  ----- \n",
      " 0   tconst           3214 non-null   object\n",
      " 1   primary_title    3214 non-null   object\n",
      " 2   genres           3214 non-null   object\n",
      " 3   id               3214 non-null   int64 \n",
      " 4   release_date     3214 non-null   object\n",
      " 5   movie            3214 non-null   object\n",
      " 6   budget           3214 non-null   int32 \n",
      " 7   gross            3214 non-null   int32 \n",
      " 8   worldwide_gross  3214 non-null   object\n",
      " 9   year             3214 non-null   int32 \n",
      " 10  month            3214 non-null   object\n",
      " 11  monthNum         3214 non-null   int64 \n",
      " 12  profit           3214 non-null   int32 \n",
      "dtypes: int32(4), int64(2), object(7)\n",
      "memory usage: 301.3+ KB\n"
     ]
    }
   ],
   "source": [
    "combined_df.dropna(inplace=True)\n",
    "combined_df.drop_duplicates('movie')\n",
    "combined_df= combined_df[combined_df['gross'] != 0]\n",
    "combined_df.info()"
   ]
  },
  {
   "cell_type": "code",
   "execution_count": null,
   "metadata": {},
   "outputs": [],
   "source": []
  },
  {
   "cell_type": "code",
   "execution_count": null,
   "metadata": {},
   "outputs": [],
   "source": []
  },
  {
   "cell_type": "code",
   "execution_count": null,
   "metadata": {},
   "outputs": [],
   "source": []
  },
  {
   "cell_type": "markdown",
   "metadata": {},
   "source": [
    "### Ratings Data\n",
    "The final dataset we need to add is the ratings data. This uses a piece of data called \"tconst\", that will help connect the rating data to our combined data. This is added after the initial merge to prevent missing rating info from removing an entry entirely from our combined dataset."
   ]
  },
  {
   "cell_type": "code",
   "execution_count": 13,
   "metadata": {
    "scrolled": true
   },
   "outputs": [
    {
     "name": "stdout",
     "output_type": "stream",
     "text": [
      "<class 'pandas.core.frame.DataFrame'>\n",
      "RangeIndex: 73856 entries, 0 to 73855\n",
      "Data columns (total 3 columns):\n",
      " #   Column         Non-Null Count  Dtype  \n",
      "---  ------         --------------  -----  \n",
      " 0   tconst         73856 non-null  object \n",
      " 1   averagerating  73856 non-null  float64\n",
      " 2   numvotes       73856 non-null  int64  \n",
      "dtypes: float64(1), int64(1), object(1)\n",
      "memory usage: 1.7+ MB\n"
     ]
    }
   ],
   "source": [
    "rate_df = pd.read_csv('data/zippedData/imdb.title.ratings.csv.gz')\n",
    "rate_df.info()"
   ]
  },
  {
   "cell_type": "markdown",
   "metadata": {},
   "source": [
    "Merge the data together, then verifying we have a dataset with everything we need."
   ]
  },
  {
   "cell_type": "code",
   "execution_count": 14,
   "metadata": {
    "scrolled": false
   },
   "outputs": [
    {
     "name": "stdout",
     "output_type": "stream",
     "text": [
      "<class 'pandas.core.frame.DataFrame'>\n",
      "Int64Index: 3214 entries, 0 to 3213\n",
      "Data columns (total 15 columns):\n",
      " #   Column           Non-Null Count  Dtype  \n",
      "---  ------           --------------  -----  \n",
      " 0   tconst           3214 non-null   object \n",
      " 1   primary_title    3214 non-null   object \n",
      " 2   genres           3214 non-null   object \n",
      " 3   id               3214 non-null   int64  \n",
      " 4   release_date     3214 non-null   object \n",
      " 5   movie            3214 non-null   object \n",
      " 6   budget           3214 non-null   int32  \n",
      " 7   gross            3214 non-null   int32  \n",
      " 8   worldwide_gross  3214 non-null   object \n",
      " 9   year             3214 non-null   int32  \n",
      " 10  month            3214 non-null   object \n",
      " 11  monthNum         3214 non-null   int64  \n",
      " 12  profit           3214 non-null   int32  \n",
      " 13  averagerating    2461 non-null   float64\n",
      " 14  numvotes         2461 non-null   float64\n",
      "dtypes: float64(2), int32(4), int64(2), object(7)\n",
      "memory usage: 351.5+ KB\n"
     ]
    }
   ],
   "source": [
    "#left join to prevent omission of data due to lack of rating\n",
    "combined_df = pd.merge(combined_df, rate_df, on='tconst', how = 'left')\n",
    "\n",
    "combined_df.info()"
   ]
  },
  {
   "cell_type": "markdown",
   "metadata": {},
   "source": [
    "Finally we will choose which columns make it into our final collective dataframe, as well as sort them for readbility."
   ]
  },
  {
   "cell_type": "code",
   "execution_count": 15,
   "metadata": {
    "scrolled": true
   },
   "outputs": [
    {
     "name": "stdout",
     "output_type": "stream",
     "text": [
      "<class 'pandas.core.frame.DataFrame'>\n",
      "Int64Index: 3214 entries, 0 to 3213\n",
      "Data columns (total 9 columns):\n",
      " #   Column         Non-Null Count  Dtype  \n",
      "---  ------         --------------  -----  \n",
      " 0   movie          3214 non-null   object \n",
      " 1   genres         3214 non-null   object \n",
      " 2   budget         3214 non-null   int32  \n",
      " 3   gross          3214 non-null   int32  \n",
      " 4   profit         3214 non-null   int32  \n",
      " 5   month          3214 non-null   object \n",
      " 6   year           3214 non-null   int32  \n",
      " 7   monthNum       3214 non-null   int64  \n",
      " 8   averagerating  2461 non-null   float64\n",
      "dtypes: float64(1), int32(4), int64(1), object(3)\n",
      "memory usage: 200.9+ KB\n"
     ]
    }
   ],
   "source": [
    "combined_df = combined_df[['movie', 'genres', 'budget', 'gross', 'profit', 'month', 'year', 'monthNum', 'averagerating']]\n",
    "combined_df.info()"
   ]
  },
  {
   "cell_type": "markdown",
   "metadata": {},
   "source": [
    "### Using Only Approproate Data\n",
    "Let's only look at the last 4 years of movies. First we look at the dataframe starting with the most recent movie for better understanding."
   ]
  },
  {
   "cell_type": "code",
   "execution_count": 16,
   "metadata": {
    "scrolled": false
   },
   "outputs": [
    {
     "data": {
      "text/html": [
       "<div>\n",
       "<style scoped>\n",
       "    .dataframe tbody tr th:only-of-type {\n",
       "        vertical-align: middle;\n",
       "    }\n",
       "\n",
       "    .dataframe tbody tr th {\n",
       "        vertical-align: top;\n",
       "    }\n",
       "\n",
       "    .dataframe thead th {\n",
       "        text-align: right;\n",
       "    }\n",
       "</style>\n",
       "<table border=\"1\" class=\"dataframe\">\n",
       "  <thead>\n",
       "    <tr style=\"text-align: right;\">\n",
       "      <th></th>\n",
       "      <th>movie</th>\n",
       "      <th>genres</th>\n",
       "      <th>budget</th>\n",
       "      <th>gross</th>\n",
       "      <th>profit</th>\n",
       "      <th>month</th>\n",
       "      <th>year</th>\n",
       "      <th>monthNum</th>\n",
       "      <th>averagerating</th>\n",
       "    </tr>\n",
       "  </thead>\n",
       "  <tbody>\n",
       "    <tr>\n",
       "      <th>1717</th>\n",
       "      <td>Serenity</td>\n",
       "      <td>Drama,Mystery,Sci-Fi</td>\n",
       "      <td>25000000</td>\n",
       "      <td>8547045</td>\n",
       "      <td>-16452955</td>\n",
       "      <td>Jan</td>\n",
       "      <td>2019</td>\n",
       "      <td>1</td>\n",
       "      <td>5.3</td>\n",
       "    </tr>\n",
       "    <tr>\n",
       "      <th>23</th>\n",
       "      <td>Alita: Battle Angel</td>\n",
       "      <td>Action,Adventure,Sci-Fi</td>\n",
       "      <td>170000000</td>\n",
       "      <td>85710210</td>\n",
       "      <td>-84289790</td>\n",
       "      <td>Feb</td>\n",
       "      <td>2019</td>\n",
       "      <td>2</td>\n",
       "      <td>7.5</td>\n",
       "    </tr>\n",
       "    <tr>\n",
       "      <th>3103</th>\n",
       "      <td>Dark Phoenix</td>\n",
       "      <td>Action,Adventure,Sci-Fi</td>\n",
       "      <td>350000000</td>\n",
       "      <td>42762350</td>\n",
       "      <td>-307237650</td>\n",
       "      <td>Jun</td>\n",
       "      <td>2019</td>\n",
       "      <td>6</td>\n",
       "      <td>6.0</td>\n",
       "    </tr>\n",
       "    <tr>\n",
       "      <th>3053</th>\n",
       "      <td>Aladdin</td>\n",
       "      <td>Adventure,Comedy,Family</td>\n",
       "      <td>182000000</td>\n",
       "      <td>246734314</td>\n",
       "      <td>64734314</td>\n",
       "      <td>May</td>\n",
       "      <td>2019</td>\n",
       "      <td>5</td>\n",
       "      <td>7.4</td>\n",
       "    </tr>\n",
       "    <tr>\n",
       "      <th>3014</th>\n",
       "      <td>Cold Pursuit</td>\n",
       "      <td>Action,Crime,Drama</td>\n",
       "      <td>60000000</td>\n",
       "      <td>32138862</td>\n",
       "      <td>-27861138</td>\n",
       "      <td>Feb</td>\n",
       "      <td>2019</td>\n",
       "      <td>2</td>\n",
       "      <td>6.2</td>\n",
       "    </tr>\n",
       "  </tbody>\n",
       "</table>\n",
       "</div>"
      ],
      "text/plain": [
       "                    movie                   genres     budget      gross  \\\n",
       "1717             Serenity     Drama,Mystery,Sci-Fi   25000000    8547045   \n",
       "23    Alita: Battle Angel  Action,Adventure,Sci-Fi  170000000   85710210   \n",
       "3103         Dark Phoenix  Action,Adventure,Sci-Fi  350000000   42762350   \n",
       "3053              Aladdin  Adventure,Comedy,Family  182000000  246734314   \n",
       "3014         Cold Pursuit       Action,Crime,Drama   60000000   32138862   \n",
       "\n",
       "         profit month  year  monthNum  averagerating  \n",
       "1717  -16452955   Jan  2019         1            5.3  \n",
       "23    -84289790   Feb  2019         2            7.5  \n",
       "3103 -307237650   Jun  2019         6            6.0  \n",
       "3053   64734314   May  2019         5            7.4  \n",
       "3014  -27861138   Feb  2019         2            6.2  "
      ]
     },
     "execution_count": 16,
     "metadata": {},
     "output_type": "execute_result"
    }
   ],
   "source": [
    "combined_df.sort_values('year').tail()"
   ]
  },
  {
   "cell_type": "markdown",
   "metadata": {},
   "source": [
    "So the data will be taken from the years 2016-2019. But first we double check that 2019's data is complete:\n"
   ]
  },
  {
   "cell_type": "code",
   "execution_count": 29,
   "metadata": {
    "scrolled": true
   },
   "outputs": [
    {
     "data": {
      "text/plain": [
       "May    10\n",
       "Jan     9\n",
       "Mar     9\n",
       "Feb     8\n",
       "Jun     5\n",
       "Apr     4\n",
       "Name: month, dtype: int64"
      ]
     },
     "execution_count": 29,
     "metadata": {},
     "output_type": "execute_result"
    }
   ],
   "source": [
    "combined_df[combined_df['year']==2019]['month'].value_counts()"
   ]
  },
  {
   "cell_type": "markdown",
   "metadata": {},
   "source": [
    "It is not, so we use data from years 2015-2018."
   ]
  },
  {
   "cell_type": "code",
   "execution_count": 30,
   "metadata": {},
   "outputs": [],
   "source": [
    "#new dataframe with only recent years' data.\n",
    "recent_df = combined_df[(combined_df['year'] >= 2015) & (combined_df['year'] <= 2018)].sort_values('monthNum')"
   ]
  },
  {
   "cell_type": "markdown",
   "metadata": {},
   "source": [
    "## Interpreting Data\n",
    "We will now use the data in recent_df to show trends in profitability based on various factors."
   ]
  },
  {
   "cell_type": "markdown",
   "metadata": {},
   "source": [
    "### Average Profit by month\n",
    "The following shows plot shows the average budgets and gross income for movies between 2015-2018, sorted by month."
   ]
  },
  {
   "cell_type": "code",
   "execution_count": 31,
   "metadata": {},
   "outputs": [
    {
     "data": {
      "text/plain": [
       "Text(0.5, 1.0, 'Avg Profit by Month, 2015-2018')"
      ]
     },
     "execution_count": 31,
     "metadata": {},
     "output_type": "execute_result"
    },
    {
     "data": {
      "image/png": "[encoded data removed]",
      "text/plain": [
       "<Figure size 720x360 with 1 Axes>"
      ]
     },
     "metadata": {},
     "output_type": "display_data"
    }
   ],
   "source": [
    "sns.set_style(\"darkgrid\", {\"grid.linestyle\":\":\"})\n",
    "sns.set(rc={'figure.figsize':(10,5)})\n",
    "\n",
    "ax = sns.lineplot(x=\"month\", y = \"gross\", data = recent_df)\n",
    "\n",
    "ax.set_xlabel(\"\")\n",
    "ax.set_ylabel(\"YYYY\")\n",
    "ax.set_title(\"Avg Profit by Month, 2015-2018\")\n",
    "\n"
   ]
  },
  {
   "cell_type": "markdown",
   "metadata": {},
   "source": [
    "A graph of profits by month indicates that the months with highest success rates tend to be early spring, early summer, and to a lesser degree, the holiday season. "
   ]
  },
  {
   "cell_type": "markdown",
   "metadata": {},
   "source": [
    "### Average Budget and Gross Income\n",
    "The next plot shows the budget and gross income on average, by month. This will indicate if there is a correlation bwtween the two."
   ]
  },
  {
   "cell_type": "code",
   "execution_count": 32,
   "metadata": {
    "scrolled": false
   },
   "outputs": [
    {
     "data": {
      "image/png": "[encoded data removed]",
      "text/plain": [
       "<Figure size 720x360 with 1 Axes>"
      ]
     },
     "metadata": {},
     "output_type": "display_data"
    }
   ],
   "source": [
    "\n",
    "ax = sns.lineplot(x=\"month\", y = \"gross\", data = recent_df)\n",
    "ax1 = sns.lineplot(x=\"month\", y = \"budget\", data = recent_df)\n",
    "\n",
    "\n",
    "ax.set_xlabel(\"\")\n",
    "ax.set_ylabel(\"YYYY\")\n",
    "ax.set_title(\"Budget vs Gross Income, 2015-2018\")\n",
    "ax.legend(labels=[\"Domestic Gross\",\"Budget\"])\n",
    "\n",
    "sns.set_style(\"darkgrid\", {\"grid.linestyle\":\":\"})\n",
    "sns.set(rc={'figure.figsize':(10,5)})"
   ]
  },
  {
   "cell_type": "markdown",
   "metadata": {},
   "source": [
    "This graph verifies that increased budgets behind a movie's production seems to directly effect its domestic gross income, and thereby its profitability. "
   ]
  },
  {
   "cell_type": "markdown",
   "metadata": {},
   "source": [
    "### Movies by Genre\n",
    "Next we break down these findings by Genre of movie, to see whcih of the most popular Genres tend to be more successful in general, and during which times of year."
   ]
  },
  {
   "cell_type": "code",
   "execution_count": 33,
   "metadata": {
    "scrolled": true
   },
   "outputs": [
    {
     "data": {
      "text/plain": [
       "Drama                         91\n",
       "Documentary                   52\n",
       "Comedy                        35\n",
       "Adventure,Animation,Comedy    32\n",
       "Comedy,Drama                  23\n",
       "                              ..\n",
       "Horror,Music,Thriller          1\n",
       "Adventure,Animation,Family     1\n",
       "Comedy,Horror                  1\n",
       "Music                          1\n",
       "Biography,Drama,Musical        1\n",
       "Name: genres, Length: 192, dtype: int64"
      ]
     },
     "execution_count": 33,
     "metadata": {},
     "output_type": "execute_result"
    }
   ],
   "source": [
    "recent_df['genres'].value_counts()"
   ]
  },
  {
   "cell_type": "markdown",
   "metadata": {},
   "source": [
    "We need to break down each movie in our data into individual genres. If a film is listed as a Comedy and Drama ,for example, it will become two separate entries, as each genre separately."
   ]
  },
  {
   "cell_type": "code",
   "execution_count": 34,
   "metadata": {},
   "outputs": [],
   "source": [
    "#remove genre commas, and separate individual words into lists\n",
    "recent_df['genres'] = recent_df['genres'].str.split(',')"
   ]
  },
  {
   "cell_type": "code",
   "execution_count": 38,
   "metadata": {
    "scrolled": true
   },
   "outputs": [
    {
     "data": {
      "text/html": [
       "<div>\n",
       "<style scoped>\n",
       "    .dataframe tbody tr th:only-of-type {\n",
       "        vertical-align: middle;\n",
       "    }\n",
       "\n",
       "    .dataframe tbody tr th {\n",
       "        vertical-align: top;\n",
       "    }\n",
       "\n",
       "    .dataframe thead th {\n",
       "        text-align: right;\n",
       "    }\n",
       "</style>\n",
       "<table border=\"1\" class=\"dataframe\">\n",
       "  <thead>\n",
       "    <tr style=\"text-align: right;\">\n",
       "      <th></th>\n",
       "      <th>movie</th>\n",
       "      <th>genres</th>\n",
       "      <th>budget</th>\n",
       "      <th>gross</th>\n",
       "      <th>profit</th>\n",
       "      <th>month</th>\n",
       "      <th>year</th>\n",
       "      <th>monthNum</th>\n",
       "      <th>averagerating</th>\n",
       "    </tr>\n",
       "  </thead>\n",
       "  <tbody>\n",
       "    <tr>\n",
       "      <th>2408</th>\n",
       "      <td>Split</td>\n",
       "      <td>[Action, Drama, Sport]</td>\n",
       "      <td>5000000</td>\n",
       "      <td>138141585</td>\n",
       "      <td>133141585</td>\n",
       "      <td>Jan</td>\n",
       "      <td>2017</td>\n",
       "      <td>1</td>\n",
       "      <td>5.4</td>\n",
       "    </tr>\n",
       "    <tr>\n",
       "      <th>2472</th>\n",
       "      <td>Ride Along 2</td>\n",
       "      <td>[Action, Comedy, Crime]</td>\n",
       "      <td>40000000</td>\n",
       "      <td>90862685</td>\n",
       "      <td>50862685</td>\n",
       "      <td>Jan</td>\n",
       "      <td>2016</td>\n",
       "      <td>1</td>\n",
       "      <td>5.9</td>\n",
       "    </tr>\n",
       "    <tr>\n",
       "      <th>491</th>\n",
       "      <td>Paddington</td>\n",
       "      <td>[Adventure, Comedy, Family]</td>\n",
       "      <td>55000000</td>\n",
       "      <td>76223578</td>\n",
       "      <td>21223578</td>\n",
       "      <td>Jan</td>\n",
       "      <td>2015</td>\n",
       "      <td>1</td>\n",
       "      <td>7.2</td>\n",
       "    </tr>\n",
       "    <tr>\n",
       "      <th>2429</th>\n",
       "      <td>Blackhat</td>\n",
       "      <td>[Action, Crime, Thriller]</td>\n",
       "      <td>70000000</td>\n",
       "      <td>8005980</td>\n",
       "      <td>-61994020</td>\n",
       "      <td>Jan</td>\n",
       "      <td>2015</td>\n",
       "      <td>1</td>\n",
       "      <td>5.4</td>\n",
       "    </tr>\n",
       "    <tr>\n",
       "      <th>2423</th>\n",
       "      <td>Above and Beyond</td>\n",
       "      <td>[Documentary]</td>\n",
       "      <td>1300000</td>\n",
       "      <td>288751</td>\n",
       "      <td>-1011249</td>\n",
       "      <td>Jan</td>\n",
       "      <td>2015</td>\n",
       "      <td>1</td>\n",
       "      <td>NaN</td>\n",
       "    </tr>\n",
       "  </tbody>\n",
       "</table>\n",
       "</div>"
      ],
      "text/plain": [
       "                 movie                       genres    budget      gross  \\\n",
       "2408             Split       [Action, Drama, Sport]   5000000  138141585   \n",
       "2472      Ride Along 2      [Action, Comedy, Crime]  40000000   90862685   \n",
       "491         Paddington  [Adventure, Comedy, Family]  55000000   76223578   \n",
       "2429          Blackhat    [Action, Crime, Thriller]  70000000    8005980   \n",
       "2423  Above and Beyond                [Documentary]   1300000     288751   \n",
       "\n",
       "         profit month  year  monthNum  averagerating  \n",
       "2408  133141585   Jan  2017         1            5.4  \n",
       "2472   50862685   Jan  2016         1            5.9  \n",
       "491    21223578   Jan  2015         1            7.2  \n",
       "2429  -61994020   Jan  2015         1            5.4  \n",
       "2423   -1011249   Jan  2015         1            NaN  "
      ]
     },
     "execution_count": 38,
     "metadata": {},
     "output_type": "execute_result"
    }
   ],
   "source": [
    "#genres will now be arrays of strings\n",
    "recent_df.head()"
   ]
  },
  {
   "cell_type": "code",
   "execution_count": 39,
   "metadata": {},
   "outputs": [
    {
     "data": {
      "text/plain": [
       "Drama          452\n",
       "Comedy         232\n",
       "Action         212\n",
       "Adventure      167\n",
       "Thriller       129\n",
       "Crime          103\n",
       "Horror         103\n",
       "Biography      100\n",
       "Documentary     82\n",
       "Romance         77\n",
       "Mystery         65\n",
       "Sci-Fi          61\n",
       "Fantasy         60\n",
       "Animation       51\n",
       "History         41\n",
       "Family          40\n",
       "Music           26\n",
       "Sport           23\n",
       "War             11\n",
       "Musical          7\n",
       "Western          3\n",
       "News             1\n",
       "Name: genres, dtype: int64"
      ]
     },
     "execution_count": 39,
     "metadata": {},
     "output_type": "execute_result"
    }
   ],
   "source": [
    "#separate lists of genres into new row entries\n",
    "\n",
    "genre_df = recent_df.explode('genres')\n",
    "\n",
    "genre_df['genres'].value_counts()"
   ]
  },
  {
   "cell_type": "markdown",
   "metadata": {},
   "source": [
    "Some of these genres only appear a small number of times, which could skew data. So we will remove all entries of a genre that appears under 50 times."
   ]
  },
  {
   "cell_type": "code",
   "execution_count": 51,
   "metadata": {},
   "outputs": [],
   "source": [
    "#remove lowest values\n",
    "value_counts = genre_df['genres'].value_counts()\n",
    "genre_df = genre_df[~genre_df['genres'].isin(value_counts[value_counts <= 50].index)]"
   ]
  },
  {
   "cell_type": "markdown",
   "metadata": {},
   "source": [
    "#### Grouping Data\n",
    "Here the data is grouped by genre, and the average values of each genre are calculated. The important average in this case is the profit, shown below."
   ]
  },
  {
   "cell_type": "code",
   "execution_count": 57,
   "metadata": {},
   "outputs": [
    {
     "data": {
      "text/html": [
       "<div>\n",
       "<style scoped>\n",
       "    .dataframe tbody tr th:only-of-type {\n",
       "        vertical-align: middle;\n",
       "    }\n",
       "\n",
       "    .dataframe tbody tr th {\n",
       "        vertical-align: top;\n",
       "    }\n",
       "\n",
       "    .dataframe thead th {\n",
       "        text-align: right;\n",
       "    }\n",
       "</style>\n",
       "<table border=\"1\" class=\"dataframe\">\n",
       "  <thead>\n",
       "    <tr style=\"text-align: right;\">\n",
       "      <th></th>\n",
       "      <th>genres</th>\n",
       "      <th>profit</th>\n",
       "    </tr>\n",
       "  </thead>\n",
       "  <tbody>\n",
       "    <tr>\n",
       "      <th>0</th>\n",
       "      <td>Action</td>\n",
       "      <td>9.817991e+06</td>\n",
       "    </tr>\n",
       "    <tr>\n",
       "      <th>1</th>\n",
       "      <td>Adventure</td>\n",
       "      <td>2.261242e+07</td>\n",
       "    </tr>\n",
       "    <tr>\n",
       "      <th>2</th>\n",
       "      <td>Animation</td>\n",
       "      <td>5.461833e+07</td>\n",
       "    </tr>\n",
       "    <tr>\n",
       "      <th>3</th>\n",
       "      <td>Biography</td>\n",
       "      <td>9.994019e+06</td>\n",
       "    </tr>\n",
       "    <tr>\n",
       "      <th>4</th>\n",
       "      <td>Comedy</td>\n",
       "      <td>2.464532e+07</td>\n",
       "    </tr>\n",
       "  </tbody>\n",
       "</table>\n",
       "</div>"
      ],
      "text/plain": [
       "      genres        profit\n",
       "0     Action  9.817991e+06\n",
       "1  Adventure  2.261242e+07\n",
       "2  Animation  5.461833e+07\n",
       "3  Biography  9.994019e+06\n",
       "4     Comedy  2.464532e+07"
      ]
     },
     "execution_count": 57,
     "metadata": {},
     "output_type": "execute_result"
    }
   ],
   "source": [
    "profit_by_genre = genre_df.groupby('genres').mean()\n",
    "profit_by_genre.reset_index(level=0, inplace=True)\n",
    "profit_by_genre.drop('year', axis=1, inplace=True)\n",
    "\n",
    "profit_by_genre[['genres','profit']].head()"
   ]
  },
  {
   "cell_type": "code",
   "execution_count": 58,
   "metadata": {
    "scrolled": true
   },
   "outputs": [
    {
     "data": {
      "image/png": "[encoded data removed]",
      "text/plain": [
       "<Figure size 1080x360 with 1 Axes>"
      ]
     },
     "metadata": {},
     "output_type": "display_data"
    }
   ],
   "source": [
    "ax = sns.barplot(x='genres', y = \"profit\", data = profit_by_genre, \n",
    "                 order=profit_by_genre.sort_values('profit', ascending=False).genres)\n",
    "\n",
    "ax.set_xlabel(\"\")\n",
    "ax.set_ylabel(\"\")\n",
    "ax.set_title(\"TITLE\")\n",
    "\n",
    "sns.set_style(\"darkgrid\", {\"grid.linestyle\":\":\"})\n",
    "sns.set(rc={'figure.figsize':(13,5)})"
   ]
  },
  {
   "cell_type": "markdown",
   "metadata": {},
   "source": [
    "Animation and Sci-Fi genres easily beat out the competition in terms of average profits, but it's worth looking at the most popular genres on a month-to-month basis. We'll look at the top 4."
   ]
  },
  {
   "cell_type": "markdown",
   "metadata": {},
   "source": [
    "#### Most Popular Genres by Month\n",
    "With new dataframes for each of the most popular genres, we can visualize how each of these genres do on a month to month basis. "
   ]
  },
  {
   "cell_type": "code",
   "execution_count": 62,
   "metadata": {},
   "outputs": [],
   "source": [
    "#create separate dataframes for each genre\n",
    "\n",
    "animation_df = genre_df[genre_df['genres']=='Animation'].groupby('month').mean().sort_values('monthNum')\n",
    "scifi_df = genre_df[genre_df['genres']=='Sci-Fi'].groupby('month').mean().sort_values('monthNum')\n",
    "comedy_df = genre_df[genre_df['genres']=='Comedy'].groupby('month').mean().sort_values('monthNum')\n",
    "adventure_df = genre_df[genre_df['genres']=='Adventure'].groupby('month').mean().sort_values('monthNum')\n",
    "\n",
    "animation_df.reset_index(level=0, inplace=True)\n",
    "scifi_df.reset_index(level=0, inplace=True)\n",
    "comedy_df.reset_index(level=0, inplace=True)\n",
    "adventure_df.reset_index(level=0, inplace=True)"
   ]
  },
  {
   "cell_type": "code",
   "execution_count": 63,
   "metadata": {},
   "outputs": [
    {
     "data": {
      "text/html": [
       "<div>\n",
       "<style scoped>\n",
       "    .dataframe tbody tr th:only-of-type {\n",
       "        vertical-align: middle;\n",
       "    }\n",
       "\n",
       "    .dataframe tbody tr th {\n",
       "        vertical-align: top;\n",
       "    }\n",
       "\n",
       "    .dataframe thead th {\n",
       "        text-align: right;\n",
       "    }\n",
       "</style>\n",
       "<table border=\"1\" class=\"dataframe\">\n",
       "  <thead>\n",
       "    <tr style=\"text-align: right;\">\n",
       "      <th></th>\n",
       "      <th>month</th>\n",
       "      <th>budget</th>\n",
       "      <th>gross</th>\n",
       "      <th>profit</th>\n",
       "      <th>year</th>\n",
       "      <th>monthNum</th>\n",
       "      <th>averagerating</th>\n",
       "    </tr>\n",
       "  </thead>\n",
       "  <tbody>\n",
       "    <tr>\n",
       "      <th>0</th>\n",
       "      <td>Jan</td>\n",
       "      <td>2.233333e+07</td>\n",
       "      <td>2.065966e+07</td>\n",
       "      <td>-1.673671e+06</td>\n",
       "      <td>2016.333333</td>\n",
       "      <td>1.0</td>\n",
       "      <td>5.966667</td>\n",
       "    </tr>\n",
       "    <tr>\n",
       "      <th>1</th>\n",
       "      <td>Feb</td>\n",
       "      <td>9.950000e+07</td>\n",
       "      <td>1.964146e+08</td>\n",
       "      <td>9.691458e+07</td>\n",
       "      <td>2015.750000</td>\n",
       "      <td>2.0</td>\n",
       "      <td>5.725000</td>\n",
       "    </tr>\n",
       "    <tr>\n",
       "      <th>2</th>\n",
       "      <td>Mar</td>\n",
       "      <td>1.030000e+08</td>\n",
       "      <td>8.286669e+07</td>\n",
       "      <td>-2.013331e+07</td>\n",
       "      <td>2017.142857</td>\n",
       "      <td>3.0</td>\n",
       "      <td>6.514286</td>\n",
       "    </tr>\n",
       "    <tr>\n",
       "      <th>3</th>\n",
       "      <td>Apr</td>\n",
       "      <td>6.717857e+07</td>\n",
       "      <td>1.467128e+08</td>\n",
       "      <td>7.953427e+07</td>\n",
       "      <td>2017.000000</td>\n",
       "      <td>4.0</td>\n",
       "      <td>6.828571</td>\n",
       "    </tr>\n",
       "    <tr>\n",
       "      <th>4</th>\n",
       "      <td>May</td>\n",
       "      <td>1.444429e+08</td>\n",
       "      <td>1.786342e+08</td>\n",
       "      <td>3.419131e+07</td>\n",
       "      <td>2016.000000</td>\n",
       "      <td>5.0</td>\n",
       "      <td>6.585714</td>\n",
       "    </tr>\n",
       "  </tbody>\n",
       "</table>\n",
       "</div>"
      ],
      "text/plain": [
       "  month        budget         gross        profit         year  monthNum  \\\n",
       "0   Jan  2.233333e+07  2.065966e+07 -1.673671e+06  2016.333333       1.0   \n",
       "1   Feb  9.950000e+07  1.964146e+08  9.691458e+07  2015.750000       2.0   \n",
       "2   Mar  1.030000e+08  8.286669e+07 -2.013331e+07  2017.142857       3.0   \n",
       "3   Apr  6.717857e+07  1.467128e+08  7.953427e+07  2017.000000       4.0   \n",
       "4   May  1.444429e+08  1.786342e+08  3.419131e+07  2016.000000       5.0   \n",
       "\n",
       "   averagerating  \n",
       "0       5.966667  \n",
       "1       5.725000  \n",
       "2       6.514286  \n",
       "3       6.828571  \n",
       "4       6.585714  "
      ]
     },
     "execution_count": 63,
     "metadata": {},
     "output_type": "execute_result"
    }
   ],
   "source": [
    "#confirm dataframe successfully created\n",
    "scifi_df.head()"
   ]
  },
  {
   "cell_type": "code",
   "execution_count": 64,
   "metadata": {
    "scrolled": true
   },
   "outputs": [
    {
     "data": {
      "image/png": "[encoded data removed]",
      "text/plain": [
       "<Figure size 936x360 with 1 Axes>"
      ]
     },
     "metadata": {},
     "output_type": "display_data"
    }
   ],
   "source": [
    "ax = sns.lineplot(x=\"month\", y = \"profit\", data = scifi_df)\n",
    "ax1 = sns.lineplot(x=\"month\", y = \"profit\", data = comedy_df)\n",
    "ax2 = sns.lineplot(x=\"month\", y = \"profit\", data = adventure_df)\n",
    "ax3 = sns.lineplot(x=\"month\", y = \"profit\", data = animation_df)\n",
    "\n",
    "ax.set_xlabel(\"\")\n",
    "ax.set_ylabel(\"domestic profit\")\n",
    "ax.set_title(\"Avg Profits of Most Popular Genres by Month\")\n",
    "ax.legend(labels=['Sci-fi', 'Comedy', 'Adventure', 'Animation'])\n",
    "\n",
    "sns.set_style(\"darkgrid\", {\"grid.linestyle\":\":\"})\n",
    "sns.set(rc={'figure.figsize':(15,5)})"
   ]
  },
  {
   "cell_type": "markdown",
   "metadata": {},
   "source": [
    "This indicates that Animated films are most profitable in the summer. However, in February, when most movies are not very profitable, Sci-fi films stand a chance of success. Additionally, while Comedy films are at least moderately profitable, it is inadvisable to focus on them. This is especially true during the summer, when other types of movies do far better."
   ]
  },
  {
   "cell_type": "markdown",
   "metadata": {},
   "source": [
    "### Reviews vs Profits\n",
    "Finally, we will analyze whether the profitability of films has any correlation to the average reviews they receive. This can be simply visualized on a scatter plot."
   ]
  },
  {
   "cell_type": "code",
   "execution_count": 68,
   "metadata": {
    "scrolled": true
   },
   "outputs": [
    {
     "data": {
      "image/png": "[encoded data removed]",
      "text/plain": [
       "<Figure size 720x360 with 1 Axes>"
      ]
     },
     "metadata": {},
     "output_type": "display_data"
    }
   ],
   "source": [
    "ax = sns.scatterplot(x=\"averagerating\", y = \"profit\", data = recent_df)\n",
    "\n",
    "ax.set_xlabel(\"\")\n",
    "ax.set_ylabel(\"domestic profit\")\n",
    "ax.set_title(\"\")\n",
    "ax.legend(labels=[''])\n",
    "\n",
    "sns.set_style(\"darkgrid\", {\"grid.linestyle\":\":\"})\n",
    "sns.set(rc={'figure.figsize':(10,5)})"
   ]
  },
  {
   "cell_type": "markdown",
   "metadata": {},
   "source": [
    "There does seem to be at least somewhat of a correlation. Next we will see if this varies depending on the genre."
   ]
  },
  {
   "cell_type": "code",
   "execution_count": 81,
   "metadata": {
    "scrolled": true
   },
   "outputs": [
    {
     "data": {
      "text/plain": [
       "[(5.0, 8.0)]"
      ]
     },
     "execution_count": 81,
     "metadata": {},
     "output_type": "execute_result"
    },
    {
     "data": {
      "image/png": "[encoded data removed]",
      "text/plain": [
       "<Figure size 720x360 with 1 Axes>"
      ]
     },
     "metadata": {},
     "output_type": "display_data"
    }
   ],
   "source": [
    "ax = sns.scatterplot(x=\"averagerating\", y = \"profit\", data = scifi_df)\n",
    "ax1 = sns.scatterplot(x=\"averagerating\", y = \"profit\", data = comedy_df)\n",
    "ax2 = sns.scatterplot(x=\"averagerating\", y = \"profit\", data = adventure_df)\n",
    "ax3 = sns.scatterplot(x=\"averagerating\", y = \"profit\", data = animation_df)\n",
    "\n",
    "ax.set_xlabel(\"\")\n",
    "ax.set_ylabel(\"domestic profit\")\n",
    "ax.set_title(\"\")\n",
    "ax.legend(labels=['Sci-fi', 'Comedy', 'Adventure', 'Animation'])\n",
    "\n",
    "sns.set_style(\"darkgrid\", {\"grid.linestyle\":\":\"})\n",
    "sns.set(rc={'figure.figsize':(10,5)})\n",
    "ax.set(xlim=(5,8))"
   ]
  },
  {
   "cell_type": "markdown",
   "metadata": {},
   "source": [
    "This data isn't strong enough to identify any trends on a basis of genre, but does confirm that for the most popular genres in general, there is some correlation between higher average ratings and profitability."
   ]
  },
  {
   "cell_type": "markdown",
   "metadata": {},
   "source": [
    "## Evaluation\n",
    "Evaluate how well your work solves the stated business problem.\n",
    "\n",
    "***\n",
    "Questions to consider:\n",
    "* How do you interpret the results?\n",
    "* How well does your model fit your data? How much better is this than your baseline model?\n",
    "* How confident are you that your results would generalize beyond the data you have?\n",
    "* How confident are you that this model would benefit the business if put into use?\n",
    "***"
   ]
  },
  {
   "cell_type": "markdown",
   "metadata": {},
   "source": [
    "## Conclusions\n",
    "Provide your conclusions about the work you've done, including any limitations or next steps.\n",
    "\n",
    "***\n",
    "Questions to consider:\n",
    "* What would you recommend the business do as a result of this work?\n",
    "* What are some reasons why your analysis might not fully solve the business problem?\n",
    "* What else could you do in the future to improve this project?\n",
    "***"
   ]
  }
 ],
 "metadata": {
  "kernelspec": {
   "display_name": "Python 3 (ipykernel)",
   "language": "python",
   "name": "python3"
  },
  "language_info": {
   "codemirror_mode": {
    "name": "ipython",
    "version": 3
   },
   "file_extension": ".py",
   "mimetype": "text/x-python",
   "name": "python",
   "nbconvert_exporter": "python",
   "pygments_lexer": "ipython3",
   "version": "3.9.7"
  }
 },
 "nbformat": 4,
 "nbformat_minor": 4
}
